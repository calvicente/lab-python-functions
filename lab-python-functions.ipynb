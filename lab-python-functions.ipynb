{
  "cells": [
    {
      "cell_type": "code",
      "execution_count": 7,
      "metadata": {
        "colab": {
          "base_uri": "https://localhost:8080/"
        },
        "id": "mzKqmxBK6STm",
        "outputId": "560b7710-87fe-4d34-cab9-15ff1ab0656c"
      },
      "outputs": [],
      "source": [
        "#add values to inventory\n",
        "def initialize_inventory(products):\n",
        "  inventory = {}\n",
        "  for i in products:\n",
        "    quantity = int(input(f'Please enter the quantity of {i}: '))\n",
        "    inventory[i]=quantity\n",
        "  return inventory"
      ]
    },
    {
      "cell_type": "code",
      "execution_count": 11,
      "metadata": {
        "colab": {
          "base_uri": "https://localhost:8080/"
        },
        "id": "vWyZRNcE82Ep",
        "outputId": "4ff40652-d5a1-45b3-d30c-eba143d046b9"
      },
      "outputs": [],
      "source": [
        "#create customer order\n",
        "def get_customer_orders():\n",
        "  customer_orders=set()\n",
        "  question='y'\n",
        "  while question!='n':\n",
        "    item=input('Please enter product name ')\n",
        "    if item=='t-shirt' or item=='mug' or item=='hat' or item=='book' or item=='keychain':\n",
        "      customer_orders.add(item)\n",
        "      question=input('Would you like to add another product? [y/n]')\n",
        "      while question!='y' and question!='n':\n",
        "        question=input('Invalid answer, please type y or n')\n",
        "    else:\n",
        "      print('Invalid item')\n",
        "  return customer_orders"
      ]
    },
    {
      "cell_type": "code",
      "execution_count": 16,
      "metadata": {
        "colab": {
          "base_uri": "https://localhost:8080/"
        },
        "id": "iwT0UX4Rrb__",
        "outputId": "87103525-e4f2-4923-cb7f-b2792e7d2d31"
      },
      "outputs": [],
      "source": [
        "def calculate_order_statistics(cus_orders,inv):\n",
        "  total_items=0\n",
        "  type(total_items)\n",
        "  for j in inv.values():\n",
        "    total_items+=j\n",
        "  total_items\n",
        "  order_status=(len(cus_orders),(len(cus_orders)/total_items)*100)\n",
        "  return order_status"
      ]
    },
    {
      "cell_type": "code",
      "execution_count": 19,
      "metadata": {
        "colab": {
          "base_uri": "https://localhost:8080/"
        },
        "id": "xosSoGKCnV1h",
        "outputId": "b4d7b9d1-1796-4d21-f2e6-e0bba11549c7"
      },
      "outputs": [],
      "source": [
        "#print order statistics\n",
        "def print_order_statistics (order_statistics):\n",
        "    print(f'Order Statistics: \\nTotal Products Ordered {order_statistics[0]}\\nPercentage of Products Ordered: {round(order_statistics[1],1)}%')"
      ]
    },
    {
      "cell_type": "code",
      "execution_count": 21,
      "metadata": {
        "id": "hrTCF0dYni8I"
      },
      "outputs": [],
      "source": [
        "#update inventory\n",
        "def update_inventory (cus_orders,curr_inventory):\n",
        "  for item_order in cus_orders:\n",
        "    for key,value in curr_inventory.items():\n",
        "      if item_order==key:\n",
        "        curr_inventory[key]-=1\n",
        "  return curr_inventory"
      ]
    },
    {
      "cell_type": "code",
      "execution_count": 22,
      "metadata": {
        "colab": {
          "base_uri": "https://localhost:8080/"
        },
        "id": "ThixQTYmv7SH",
        "outputId": "db6aef8c-2666-4b6f-f24e-2c4462d2d7f3"
      },
      "outputs": [],
      "source": [
        "#print updated inventory\n",
        "def print_updated_inventory (inv):\n",
        "  print('Updated Inventory:')\n",
        "  for key,value in inv.items():\n",
        "    print(f'{key}: {value}')"
      ]
    },
    {
      "cell_type": "code",
      "execution_count": 8,
      "metadata": {
        "id": "wLyRfvl75-ag"
      },
      "outputs": [],
      "source": [
        "products_list=['t-shirt','mug','hat','book','keychain']"
      ]
    },
    {
      "cell_type": "code",
      "execution_count": 9,
      "metadata": {
        "colab": {
          "base_uri": "https://localhost:8080/"
        },
        "id": "lnmsfN5V7v-3",
        "outputId": "7eba549e-9060-4a33-d99e-53b85f6ae365"
      },
      "outputs": [
        {
          "data": {
            "text/plain": [
              "{'t-shirt': 100, 'mug': 200, 'hat': 300, 'book': 400, 'keychain': 500}"
            ]
          },
          "execution_count": 9,
          "metadata": {},
          "output_type": "execute_result"
        }
      ],
      "source": [
        "inventory=initialize_inventory(products_list)\n",
        "inventory"
      ]
    },
    {
      "cell_type": "code",
      "execution_count": 12,
      "metadata": {
        "colab": {
          "base_uri": "https://localhost:8080/"
        },
        "id": "T_Ich_9xk2dV",
        "outputId": "44860eb5-594b-4145-aef3-88c173e0120b"
      },
      "outputs": [
        {
          "data": {
            "text/plain": [
              "{'hat', 'mug'}"
            ]
          },
          "execution_count": 12,
          "metadata": {},
          "output_type": "execute_result"
        }
      ],
      "source": [
        "order=get_customer_orders()\n",
        "order"
      ]
    },
    {
      "cell_type": "code",
      "execution_count": 20,
      "metadata": {},
      "outputs": [
        {
          "name": "stdout",
          "output_type": "stream",
          "text": [
            "Order Statistics: \n",
            "Total Products Ordered 2\n",
            "Percentage of Products Ordered: 0.1%\n"
          ]
        }
      ],
      "source": [
        "order_statistics=calculate_order_statistics(order,inventory)\n",
        "print_order_statistics(order_statistics)"
      ]
    },
    {
      "cell_type": "code",
      "execution_count": 23,
      "metadata": {},
      "outputs": [
        {
          "name": "stdout",
          "output_type": "stream",
          "text": [
            "Updated Inventory:\n",
            "t-shirt: 100\n",
            "mug: 199\n",
            "hat: 299\n",
            "book: 400\n",
            "keychain: 500\n"
          ]
        }
      ],
      "source": [
        "inventory=update_inventory(order,inventory)\n",
        "print_updated_inventory (inventory)"
      ]
    },
    {
      "cell_type": "code",
      "execution_count": null,
      "metadata": {
        "id": "n4NiG6wHxNzk"
      },
      "outputs": [],
      "source": []
    }
  ],
  "metadata": {
    "colab": {
      "provenance": []
    },
    "kernelspec": {
      "display_name": "Python 3",
      "name": "python3"
    },
    "language_info": {
      "codemirror_mode": {
        "name": "ipython",
        "version": 3
      },
      "file_extension": ".py",
      "mimetype": "text/x-python",
      "name": "python",
      "nbconvert_exporter": "python",
      "pygments_lexer": "ipython3",
      "version": "3.10.9"
    }
  },
  "nbformat": 4,
  "nbformat_minor": 0
}
